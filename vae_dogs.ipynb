{
  "nbformat": 4,
  "nbformat_minor": 0,
  "metadata": {
    "colab": {
      "provenance": [],
      "collapsed_sections": [],
      "authorship_tag": "ABX9TyNC0ydF53IeTVmgwID5CsRv",
      "include_colab_link": true
    },
    "kernelspec": {
      "name": "python3",
      "display_name": "Python 3"
    },
    "language_info": {
      "name": "python"
    },
    "accelerator": "GPU"
  },
  "cells": [
    {
      "cell_type": "markdown",
      "metadata": {
        "id": "view-in-github",
        "colab_type": "text"
      },
      "source": [
        "<a href=\"https://colab.research.google.com/github/jpafcampos/VAE_dogs/blob/main/vae_dogs.ipynb\" target=\"_parent\"><img src=\"https://colab.research.google.com/assets/colab-badge.svg\" alt=\"Open In Colab\"/></a>"
      ]
    },
    {
      "cell_type": "code",
      "execution_count": 1,
      "metadata": {
        "colab": {
          "base_uri": "https://localhost:8080/"
        },
        "id": "hi73Z15avMp7",
        "outputId": "af063ffc-4758-490a-81f7-b7467b47a02c"
      },
      "outputs": [
        {
          "output_type": "stream",
          "name": "stdout",
          "text": [
            "Mounted at /content/drive\n"
          ]
        }
      ],
      "source": [
        "from google.colab import drive\n",
        "drive.mount('/content/drive')"
      ]
    },
    {
      "cell_type": "code",
      "source": [
        "import torch\n",
        "from torch import nn\n",
        "import os, random\n",
        "import collections\n",
        "import torch\n",
        "import torchvision\n",
        "import numpy as np\n",
        "from torch.utils import data\n",
        "import torchvision\n",
        "import torchvision.transforms as T\n",
        "from torchvision import transforms\n",
        "from torch.utils.data import DataLoader,random_split\n",
        "import torch.nn.functional as F\n",
        "import torch.optim as optim\n",
        "from torchvision import datasets, models, transforms\n",
        "from skimage.io import imread\n",
        "from skimage.transform import resize, rescale\n",
        "import skimage.transform as scikit_transform\n",
        "import scipy\n",
        "import skimage as ski\n",
        "\n",
        "import pandas as pd\n",
        "import datetime as dt\n",
        "import matplotlib.pyplot as plt\n",
        "from mpl_toolkits.axes_grid1 import ImageGrid\n",
        "from os import listdir, makedirs, getcwd, remove\n",
        "from os.path import isfile, join, abspath, exists, isdir, expanduser\n",
        "from PIL import Image\n",
        "\n",
        "from torch.optim import lr_scheduler\n"
      ],
      "metadata": {
        "id": "3mxRP7m_6sxY"
      },
      "execution_count": 2,
      "outputs": []
    },
    {
      "cell_type": "code",
      "source": [
        "%cd /content/drive/MyDrive/dog_breeds"
      ],
      "metadata": {
        "colab": {
          "base_uri": "https://localhost:8080/"
        },
        "id": "YpAl7NDM8BiK",
        "outputId": "cec61caf-1a6f-4a20-ecf6-e3d526e173c5"
      },
      "execution_count": 3,
      "outputs": [
        {
          "output_type": "stream",
          "name": "stdout",
          "text": [
            "/content/drive/MyDrive/dog_breeds\n"
          ]
        }
      ]
    },
    {
      "cell_type": "code",
      "source": [
        "class DogsDataset(data.Dataset):\n",
        "    def __init__(self, labels, root_dir, subset=False, transform=None):\n",
        "        self.labels = labels\n",
        "        self.root_dir = root_dir\n",
        "        self.transform = transform\n",
        "    \n",
        "    def __len__(self):\n",
        "        return len(self.labels)\n",
        "    \n",
        "    def __getitem__(self, idx):\n",
        "        img_name = '{}.jpg'.format(self.labels.iloc[idx, 0])\n",
        "        fullname = join(self.root_dir, img_name)\n",
        "        image = Image.open(fullname)\n",
        "        labels = self.labels.iloc[idx, 1:].to_numpy().astype('float')\n",
        "        labels = np.argmax(labels)\n",
        "        if self.transform:\n",
        "            image = self.transform(image)\n",
        "        return [image, labels]"
      ],
      "metadata": {
        "id": "MadIY5E3If50"
      },
      "execution_count": 6,
      "outputs": []
    },
    {
      "cell_type": "code",
      "source": [
        "\n",
        "#Read the dataset \n",
        "PATH = '/content/drive/MyDrive/dog_breeds/'\n",
        "labels = pd.read_csv(PATH+'labels.csv')\n",
        "labelnames = pd.read_csv(PATH + 'sample_submission.csv').keys()[1:]\n",
        "print(\"Train folder has \", len(os.listdir(PATH+'train')),'images which matches with label\\'s', len(labels),'images')"
      ],
      "metadata": {
        "colab": {
          "base_uri": "https://localhost:8080/"
        },
        "id": "jSR-5W9TK4EG",
        "outputId": "4ecbfb5c-20f5-4f5c-d16b-871bf1f576fe"
      },
      "execution_count": 5,
      "outputs": [
        {
          "output_type": "stream",
          "name": "stdout",
          "text": [
            "Train folder has  10222 images which matches with label's 10222 images\n"
          ]
        }
      ]
    },
    {
      "cell_type": "code",
      "source": [
        "codes = range(len(labelnames))\n",
        "breed_to_code = dict(zip(labelnames, codes))\n",
        "code_to_breed = dict(zip(codes, labelnames))\n",
        "labels['target'] =  [breed_to_code[x] for x in labels.breed]\n",
        "labels['rank'] = labels.groupby('breed').rank()['id']\n",
        "labels_pivot = labels.pivot('id', 'breed', 'target').reset_index().fillna(0)\n",
        "\n",
        "train = labels_pivot.sample(frac=0.85)\n",
        "valid = labels_pivot[~labels_pivot['id'].isin(train['id'])]\n",
        "print(train.shape, valid.shape)"
      ],
      "metadata": {
        "colab": {
          "base_uri": "https://localhost:8080/"
        },
        "id": "UGUgRX0I2Jtd",
        "outputId": "080c2cc7-f0c2-4a4e-c338-9674ac8da0a0"
      },
      "execution_count": 7,
      "outputs": [
        {
          "output_type": "stream",
          "name": "stdout",
          "text": [
            "(8689, 121) (1533, 121)\n"
          ]
        }
      ]
    },
    {
      "cell_type": "code",
      "source": [
        "BATCH_SIZE = 128\n",
        "\n",
        "normalize = transforms.Normalize(\n",
        "   mean=[0.485, 0.456, 0.406],\n",
        "   std=[0.229, 0.224, 0.225]\n",
        ")\n",
        "ds_trans = transforms.Compose([transforms.Resize(64),\n",
        "                               transforms.CenterCrop(64),\n",
        "                               transforms.ToTensor(),\n",
        "                               normalize])\n",
        "train_ds = DogsDataset(train, PATH+'train/', transform=ds_trans)\n",
        "valid_ds = DogsDataset(valid, PATH+'train/', transform=ds_trans)\n",
        "\n",
        "train_dl = data.DataLoader(train_ds, batch_size=BATCH_SIZE, shuffle=True, num_workers=2)\n",
        "sample_dl = data.DataLoader(train_ds, batch_size=4, shuffle=True, num_workers=2)\n",
        "valid_dl = data.DataLoader(valid_ds, batch_size=BATCH_SIZE, shuffle=True, num_workers=2)"
      ],
      "metadata": {
        "id": "OEDzojLjI5kj"
      },
      "execution_count": 11,
      "outputs": []
    },
    {
      "cell_type": "code",
      "source": [
        "def imshow(axis, inp):\n",
        "    \"\"\"Denormalize and show\"\"\"\n",
        "    inp = inp.numpy().transpose((1, 2, 0))\n",
        "    mean = np.array([0.485, 0.456, 0.406])\n",
        "    std = np.array([0.229, 0.224, 0.225])\n",
        "    inp = std * inp + mean\n",
        "    axis.imshow(inp)"
      ],
      "metadata": {
        "id": "RvJXqUeMI-fk"
      },
      "execution_count": 12,
      "outputs": []
    },
    {
      "cell_type": "code",
      "source": [
        "img, label = next(iter(sample_dl))\n",
        "#print(label)\n",
        "print(img.size(), label.size())\n",
        "fig = plt.figure(1, figsize=(16, 4))\n",
        "grid = ImageGrid(fig, 111, nrows_ncols=(1, 4), axes_pad=0.05)    \n",
        "for i in range(img.size()[0]):\n",
        "    ax = grid[i]\n",
        "    imshow(ax, img[i])"
      ],
      "metadata": {
        "colab": {
          "base_uri": "https://localhost:8080/",
          "height": 319
        },
        "id": "BmSu5zrbI-iG",
        "outputId": "31c0cf3c-fd04-43c2-947a-e8b6ad0c9b25"
      },
      "execution_count": 14,
      "outputs": [
        {
          "output_type": "stream",
          "name": "stderr",
          "text": [
            "WARNING:matplotlib.image:Clipping input data to the valid range for imshow with RGB data ([0..1] for floats or [0..255] for integers).\n",
            "WARNING:matplotlib.image:Clipping input data to the valid range for imshow with RGB data ([0..1] for floats or [0..255] for integers).\n"
          ]
        },
        {
          "output_type": "stream",
          "name": "stdout",
          "text": [
            "torch.Size([4, 3, 64, 64]) torch.Size([4])\n"
          ]
        },
        {
          "output_type": "display_data",
          "data": {
            "text/plain": [
              "<Figure size 1152x288 with 8 Axes>"
            ],
            "image/png": "[encoded data removed]"
          },
          "metadata": {
            "needs_background": "light"
          }
        }
      ]
    },
    {
      "cell_type": "code",
      "source": [
        "device = torch.device('cuda:0' if torch.cuda.is_available() else 'cpu')"
      ],
      "metadata": {
        "id": "KwWXhg4u34XT"
      },
      "execution_count": 15,
      "outputs": []
    },
    {
      "cell_type": "code",
      "source": [
        "class VariationalEncoder(nn.Module):\n",
        "    def __init__(self, latent_dims):\n",
        "        super(VariationalEncoder, self).__init__()\n",
        "\n",
        "        self.inplanes = 64\n",
        "        self.conv1 = nn.Conv2d(3, 16, kernel_size=3, stride=2, padding=1,\n",
        "                               bias=False)\n",
        "        self.bn1 = nn.BatchNorm2d(16)\n",
        "        self.conv2 = nn.Conv2d(16,32, kernel_size=3, stride=2, padding=1,bias=False)\n",
        "        self.bn2 = nn.BatchNorm2d(32)\n",
        "        self.conv3 = nn.Conv2d(32,64, kernel_size=3, stride=2, padding=1,bias=False)\n",
        "        self.bn3 = nn.BatchNorm2d(64)\n",
        "        self.conv4 = nn.Conv2d(64,32, kernel_size=3,stride=2, padding=1)\n",
        "        self.relu = nn.ReLU(inplace=True)\n",
        "        self.fc = nn.Linear(4*4*32, 512)\n",
        "        self.fc1 = nn.Linear(512 , latent_dims)\n",
        "        self.fc2 = nn.Linear(512 , latent_dims)\n",
        "\n",
        "\n",
        "    def forward(self, x):\n",
        "        x = self.conv1(x)\n",
        "        x = self.relu(x)\n",
        "        x = self.bn1(x)\n",
        "        x = self.conv2(x)\n",
        "        x = self.relu(x)\n",
        "        x = self.bn2(x)\n",
        "        x = self.conv3(x)\n",
        "        x = self.relu(x)\n",
        "        x = self.bn3(x)\n",
        "        x = self.conv4(x)\n",
        "        #print(x.shape)\n",
        "        x = self.relu(x)\n",
        "\n",
        "        x = x.view(x.size(0), -1)\n",
        "        x = self.fc(x)\n",
        "        x = self.relu(x)\n",
        "        w_mean = self.fc1(x)\n",
        "        w_std  = self.fc2(x)\n",
        "        return w_mean, w_std"
      ],
      "metadata": {
        "id": "dKcQtlkT8u_r"
      },
      "execution_count": 74,
      "outputs": []
    },
    {
      "cell_type": "code",
      "source": [
        "class Decoder(nn.Module):\n",
        "    def __init__(self, latent_dims):\n",
        "        super(Decoder, self).__init__()\n",
        "        self.relu = nn.ReLU(inplace=True)\n",
        "        self.sigmoid = nn.Sigmoid()\n",
        "        self.fc1 = nn.Linear(latent_dims, 500)\n",
        "        self.fc2 = nn.Linear(500, 4*4*32)\n",
        "        self.deconv1 = nn.ConvTranspose2d(32,64, kernel_size=3, stride =2, padding=1, output_padding=1)\n",
        "        self.deconv2 = nn.ConvTranspose2d(64,32, kernel_size=3, stride =2, padding=1, output_padding=1)\n",
        "        self.deconv3 = nn.ConvTranspose2d(32,16, kernel_size=3, stride =2, padding=1, output_padding=1)\n",
        "        self.deconv4 = nn.ConvTranspose2d(16,3, kernel_size=3, stride =2, padding=1, output_padding=1)\n",
        "        for m in self.modules():\n",
        "            if isinstance(m, nn.Conv2d):\n",
        "                nn.init.kaiming_normal_(m.weight, mode='fan_out', nonlinearity='relu')\n",
        "            elif isinstance(m, nn.BatchNorm2d):\n",
        "                nn.init.constant_(m.weight, 1)\n",
        "                nn.init.constant_(m.bias, 0)\n",
        "            elif isinstance(m, nn.Linear):\n",
        "                nn.init.xavier_uniform(m.weight)\n",
        "\n",
        "    def forward(self, z):\n",
        "        x = self.fc1(z)\n",
        "        x = self.relu(x)\n",
        "        x = self.fc2(x)\n",
        "        x = self.relu(x)\n",
        "\n",
        "        x = x.view(-1,32,4,4)\n",
        "        x = self.deconv1(x)\n",
        "        x = self.relu(x)\n",
        "        x = self.deconv2(x)\n",
        "        x = self.relu(x)\n",
        "        x = self.deconv3(x)\n",
        "        x = self.relu(x)\n",
        "        x = self.deconv4(x)\n",
        "        x = self.sigmoid(x)\n",
        "        return x"
      ],
      "metadata": {
        "id": "-BnJF7Uk8vDy"
      },
      "execution_count": 75,
      "outputs": []
    },
    {
      "cell_type": "code",
      "source": [
        "class VariationalAutoencoder(nn.Module):\n",
        "    def __init__(self, latent_dims, is_cuda = True):\n",
        "        super(VariationalAutoencoder, self).__init__()\n",
        "        self.encoder = VariationalEncoder(latent_dims)\n",
        "        self.decoder = Decoder(latent_dims)\n",
        "        self.is_cuda = is_cuda\n",
        "\n",
        "    def reparametrize(self, mu, logvar):\n",
        "        std = logvar.mul(0.5).exp_()\n",
        "        if self.is_cuda:\n",
        "            eps = torch.cuda.FloatTensor(std.size()).normal_()\n",
        "        else:\n",
        "            eps = torch.FloatTensor(std.size()).normal_()\n",
        "\n",
        "        return eps.mul(std).add_(mu)\n",
        "\n",
        "    def forward(self, x):\n",
        "        mu, logvar = self.encoder(x)\n",
        "        z = self.reparametrize(mu, logvar)\n",
        "        res = self.decoder(z)\n",
        "        return res, mu, logvar"
      ],
      "metadata": {
        "id": "6aSHONAc8vG-"
      },
      "execution_count": 76,
      "outputs": []
    },
    {
      "cell_type": "code",
      "source": [
        "reconstruction_function = nn.MSELoss()\n",
        "reconstruction_function.size_average = False\n",
        "def loss_function(recon_x, x, mu, logvar):\n",
        "\n",
        "    MSE = reconstruction_function(recon_x, x)\n",
        "\n",
        "    # see Appendix B from VAE paper:\n",
        "    # Kingma and Welling. Auto-Encoding Variational Bayes. ICLR, 2014\n",
        "    # https://arxiv.org/abs/1312.6114\n",
        "    # - D_{KL} = 0.5 * sum(1 + log(sigma^2) - mu^2 - sigma^2)\n",
        "    # note the negative D_{KL} in appendix B of the paper\n",
        "    KLD = -0.5 * torch.sum(1 + logvar - mu.pow(2) - logvar.exp())\n",
        "\n",
        "    return MSE + KLD"
      ],
      "metadata": {
        "id": "1MC6-jVMHQxz"
      },
      "execution_count": 77,
      "outputs": []
    },
    {
      "cell_type": "code",
      "source": [
        "LR = 1e-4\n",
        "EPOCH = 20\n",
        "LOG_INTERVAL = 400\n",
        "model = VariationalAutoencoder(64)\n",
        "model = model.to(device)"
      ],
      "metadata": {
        "colab": {
          "base_uri": "https://localhost:8080/"
        },
        "id": "NZG6fW9UoQh9",
        "outputId": "55420967-0eed-4e2f-8b10-9fbe3a02762c"
      },
      "execution_count": 85,
      "outputs": [
        {
          "output_type": "stream",
          "name": "stderr",
          "text": [
            "/usr/local/lib/python3.7/dist-packages/ipykernel_launcher.py:19: UserWarning: nn.init.xavier_uniform is now deprecated in favor of nn.init.xavier_uniform_.\n"
          ]
        }
      ]
    },
    {
      "cell_type": "code",
      "source": [
        "x = torch.rand(7,3,64,64).to(device)\n",
        "y = model(x)\n",
        "y[0].shape"
      ],
      "metadata": {
        "colab": {
          "base_uri": "https://localhost:8080/"
        },
        "id": "_P3zRYB5THTr",
        "outputId": "09a2c80d-88c9-431e-a2cb-4a8a8144f263"
      },
      "execution_count": 86,
      "outputs": [
        {
          "output_type": "execute_result",
          "data": {
            "text/plain": [
              "torch.Size([7, 3, 64, 64])"
            ]
          },
          "metadata": {},
          "execution_count": 86
        }
      ]
    },
    {
      "cell_type": "code",
      "source": [
        "optimizer = optim.Adam(model.parameters(), lr=LR)"
      ],
      "metadata": {
        "id": "12VTBZsxka4f"
      },
      "execution_count": 87,
      "outputs": []
    },
    {
      "cell_type": "code",
      "source": [
        "def unnormalize(y, mean, std):\n",
        "    x = y.new(*y.size())\n",
        "    x[:, 0, :, :] = y[:, 0, :, :] * std[0] + mean[0]\n",
        "    x[:, 1, :, :] = y[:, 1, :, :] * std[1] + mean[1]\n",
        "    x[:, 2, :, :] = y[:, 2, :, :] * std[2] + mean[2]\n",
        "    return x"
      ],
      "metadata": {
        "id": "RWaxq6URF9ei"
      },
      "execution_count": 88,
      "outputs": []
    },
    {
      "cell_type": "code",
      "source": [
        "from tqdm import tqdm\n",
        "mean = np.array([0.485, 0.456, 0.406])\n",
        "std = np.array([0.229, 0.224, 0.225])\n",
        "\n",
        "def train_step(epoch):\n",
        "\n",
        "    model.train()\n",
        "    train_loss = 0\n",
        "    batch_idx = 1\n",
        "    for data in tqdm(train_dl):\n",
        "        # get the inputs\n",
        "        inputs, _ = data\n",
        "\n",
        "        inputs = inputs.to(device)\n",
        "        \n",
        "        optimizer.zero_grad()\n",
        "        recon_batch, mu, logvar = model(inputs)\n",
        "        #print(inputs.data.size())\n",
        "        inputs = unnormalize(inputs, mean, std)\n",
        "\n",
        "        #print(\"input max/min\"+str(inputs.max())+\"  \"+str(inputs.min()))\n",
        "        #print(\"recon input max/min\"+str(recon_batch.max())+\"  \"+str(recon_batch.min()))\n",
        "        loss = loss_function(recon_batch, inputs, mu, logvar)\n",
        "        loss.backward()\n",
        "        train_loss += loss.item()\n",
        "        optimizer.step()\n",
        "\n",
        "        if batch_idx % LOG_INTERVAL == 0:\n",
        "            print('Train Epoch: {} [{}/{} ({:.0f}%)]\\tLoss: {:.6f}'.format(\n",
        "                epoch, batch_idx * len(inputs), (len(train_dl)*128),\n",
        "                100. * batch_idx / len(train_dl),\n",
        "                loss.item() / len(inputs)))\n",
        "        batch_idx+=1\n",
        "\n",
        "    print('====> Epoch: {} Average loss: {:.4f}'.format(\n",
        "          epoch, train_loss / (len(train_dl)*BATCH_SIZE)))\n",
        "    return train_loss / (len(train_dl)*BATCH_SIZE)"
      ],
      "metadata": {
        "id": "jgvdNgW_kdTc"
      },
      "execution_count": 89,
      "outputs": []
    },
    {
      "cell_type": "code",
      "source": [
        "def test_step(epoch):\n",
        "    model.eval()\n",
        "    test_loss = 0\n",
        "    print(\"iniciando val\")\n",
        "    for data in tqdm(valid_dl):\n",
        "        # get the inputs\n",
        "        inputs, _ = data\n",
        "\n",
        "        inputs = inputs.to(device)\n",
        "    \n",
        "        recon_batch, mu, logvar = model(inputs)\n",
        "        inputs = unnormalize(inputs, mean, std)\n",
        "        test_loss += loss_function(recon_batch, inputs, mu, logvar).item()\n",
        "        if((epoch+1)%5==0):\n",
        "            torchvision.utils.save_image(inputs, './imgs/Epoch_{}_data.jpg'.format(epoch), nrow=8, padding=8)\n",
        "            torchvision.utils.save_image(recon_batch, './imgs/Epoch_{}_recon.jpg'.format(epoch), nrow=8, padding=8)\n",
        "\n",
        "    test_loss /= (len(valid_dl)*128)\n",
        "    print('====> Test set loss: {:.4f}'.format(test_loss))\n",
        "    return test_loss"
      ],
      "metadata": {
        "id": "gEp7pR_Tp5hf"
      },
      "execution_count": 90,
      "outputs": []
    },
    {
      "cell_type": "code",
      "source": [
        "for epoch in range(EPOCH):\n",
        "    train_loss = train_step(epoch)\n",
        "    test_loss = test_step(epoch)\n",
        "    torch.save(model.state_dict(), './models/Epoch_{}_Train_loss_{:.4f}_Test_loss_{:.4f}.pth'.format(epoch, train_loss, test_loss))\n",
        " \n",
        "print('Training complete')"
      ],
      "metadata": {
        "colab": {
          "base_uri": "https://localhost:8080/"
        },
        "id": "7_-s9MjlqIC0",
        "outputId": "e00b1bdd-59b6-4b9f-c786-efbf236d39d3"
      },
      "execution_count": null,
      "outputs": [
        {
          "output_type": "stream",
          "name": "stderr",
          "text": [
            " 63%|██████▎   | 43/68 [00:25<00:14,  1.75it/s]"
          ]
        }
      ]
    },
    {
      "cell_type": "code",
      "source": [
        "y[0].shape"
      ],
      "metadata": {
        "colab": {
          "base_uri": "https://localhost:8080/"
        },
        "id": "rXepoXQnrPVs",
        "outputId": "76bbe322-1116-4705-d326-c3513edfba77"
      },
      "execution_count": 175,
      "outputs": [
        {
          "output_type": "execute_result",
          "data": {
            "text/plain": [
              "torch.Size([4, 3, 128, 128])"
            ]
          },
          "metadata": {},
          "execution_count": 175
        }
      ]
    },
    {
      "cell_type": "code",
      "source": [
        "#https://github.com/podgorskiy/VAE\n",
        "\n",
        "#https://github.com/bhpfelix/Variational-Autoencoder-PyTorch/blob/master/src/vanila_vae.py\n",
        "\n",
        "#https://github.com/CaptainDredge/Variational-AutoEncoder-in-Pytorch/blob/master/vae.py\n",
        "\n",
        "#https://www.kaggle.com/code/speedwagon/variational-autoencoder-dogs-generation <3"
      ],
      "metadata": {
        "id": "FKjSk1aGrTti"
      },
      "execution_count": null,
      "outputs": []
    },
    {
      "cell_type": "code",
      "source": [
        "%ls"
      ],
      "metadata": {
        "colab": {
          "base_uri": "https://localhost:8080/"
        },
        "id": "prtHwU3e_10R",
        "outputId": "93d6b673-c404-4637-a610-d262e3186f0d"
      },
      "execution_count": 192,
      "outputs": [
        {
          "output_type": "stream",
          "name": "stdout",
          "text": [
            "dog-breed-identification.zip  labels.gsheet          sample_submission.gsheet\n",
            "\u001b[0m\u001b[01;34mimgs\u001b[0m/                         \u001b[01;34mls\u001b[0m/                    \u001b[01;34mtest\u001b[0m/\n",
            "labels.csv                    sample_submission.csv  \u001b[01;34mtrain\u001b[0m/\n"
          ]
        }
      ]
    },
    {
      "cell_type": "code",
      "source": [
        "%mkdir models"
      ],
      "metadata": {
        "id": "WPiKJBv-_3qh"
      },
      "execution_count": 193,
      "outputs": []
    },
    {
      "cell_type": "code",
      "source": [],
      "metadata": {
        "id": "i7eUtGadABEN"
      },
      "execution_count": null,
      "outputs": []
    }
  ]
}